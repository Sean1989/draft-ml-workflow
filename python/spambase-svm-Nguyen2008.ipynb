{
 "metadata": {
  "name": "spambase-svm-Nguyen2008"
 },
 "nbformat": 3,
 "nbformat_minor": 0,
 "worksheets": [
  {
   "cells": [
    {
     "cell_type": "code",
     "collapsed": false,
     "input": [
      "'''\n",
      "An attemp to reproduce the experiment from [1].\n",
      "\n",
      "[1] Nam Nguyen and Rich Caruana. Improving classi\f",
      "cation with pairwise con-\n",
      "straints: A margin-based approach. In Walter Daelemans, Bart Goethals,\n",
      "and Katharina Morik, editors, Machine Learning and Knowledge Discov-\n",
      "ery in Databases, volume 5212 of Lecture Notes in Computer Science, pages\n",
      "113{124. Springer Berlin Heidelberg, 2008.\n",
      "'''\n",
      "\n",
      "data_path = '../data/spambase.data'  # http://archive.ics.uci.edu/ml/datasets/Spambase\n",
      "algorithm = 'svc_rbf'"
     ],
     "language": "python",
     "metadata": {},
     "outputs": [],
     "prompt_number": 2
    },
    {
     "cell_type": "code",
     "collapsed": false,
     "input": [
      "from numpy import genfromtxt\n",
      "\n",
      "print \"Reading the dataset:\", data_path\n",
      "raw_data = genfromtxt(data_path, delimiter=',')"
     ],
     "language": "python",
     "metadata": {},
     "outputs": [
      {
       "output_type": "stream",
       "stream": "stdout",
       "text": [
        "Reading the dataset: ../data/spambase.data\n"
       ]
      }
     ],
     "prompt_number": 12
    },
    {
     "cell_type": "code",
     "collapsed": false,
     "input": [
      "# We only need five fully labelled examples per class.\n",
      "# Exploiting the fact that classes are sorted in this dataset:\n",
      "\n",
      "#from numpy import append\n",
      "#data = append(raw_data[0:5], raw_data[-5:], axis=0)\n",
      "#len(data)\n",
      "\n",
      "data = raw_data\n",
      "len(data)"
     ],
     "language": "python",
     "metadata": {},
     "outputs": [
      {
       "output_type": "pyout",
       "prompt_number": 16,
       "text": [
        "4601"
       ]
      }
     ],
     "prompt_number": 16
    },
    {
     "cell_type": "code",
     "collapsed": false,
     "input": [
      "from sklearn import preprocessing\n",
      "\n",
      "features = preprocessing.scale(data[:, 0:-1])\n",
      "target = data[:, -1]"
     ],
     "language": "python",
     "metadata": {},
     "outputs": [],
     "prompt_number": 17
    },
    {
     "cell_type": "code",
     "collapsed": false,
     "input": [
      "from sklearn.cross_validation import train_test_split\n",
      "\n",
      "X_train, X_test, y_train, y_test = train_test_split(\n",
      "    features, target, test_size=0.7827, random_state=17)\n",
      "\n",
      "# test size roughly corresponds for 5 labels per class"
     ],
     "language": "python",
     "metadata": {},
     "outputs": [],
     "prompt_number": 18
    },
    {
     "cell_type": "code",
     "collapsed": false,
     "input": [
      "from sklearn.svm import SVC\n",
      "\n",
      "def svc_rbf(X_train, y_train):\n",
      "    print \"Training: SVC with a Radial Basis Function (RBF) kernel...\"\n",
      "    svc = SVC(kernel='rbf')\n",
      "    svc.fit(X_train, y_train)\n",
      "    return svc\n",
      "\n",
      "training_algorithm = globals()[algorithm]\n",
      "clf = training_algorithm(X_train, y_train)"
     ],
     "language": "python",
     "metadata": {},
     "outputs": [
      {
       "output_type": "stream",
       "stream": "stdout",
       "text": [
        "Training: SVC with a Radial Basis Function (RBF) kernel...\n"
       ]
      }
     ],
     "prompt_number": 19
    },
    {
     "cell_type": "code",
     "collapsed": false,
     "input": [
      "clf"
     ],
     "language": "python",
     "metadata": {},
     "outputs": [
      {
       "output_type": "pyout",
       "prompt_number": 20,
       "text": [
        "SVC(C=1.0, cache_size=200, class_weight=None, coef0=0.0, degree=3,\n",
        "  gamma=0.0175438596491, kernel='rbf', probability=False, shrinking=True,\n",
        "  tol=0.001, verbose=False)"
       ]
      }
     ],
     "prompt_number": 20
    },
    {
     "cell_type": "code",
     "collapsed": false,
     "input": [
      "# Make a prediction\n",
      "y_pred = clf.predict(X_test)"
     ],
     "language": "python",
     "metadata": {},
     "outputs": [],
     "prompt_number": 21
    },
    {
     "cell_type": "code",
     "collapsed": false,
     "input": [
      "from sklearn import metrics\n",
      "\n",
      "print \"Precision: \\t\", metrics.precision_score(y_test, y_pred)\n",
      "print \"Recall: \\t\", metrics.recall_score(y_test, y_pred)\n",
      "print \"F1 score: \\t\", metrics.f1_score(y_test, y_pred)"
     ],
     "language": "python",
     "metadata": {},
     "outputs": [
      {
       "output_type": "stream",
       "stream": "stdout",
       "text": [
        "Precision: \t0.925581395349\n",
        "Recall: \t0.846808510638\n",
        "F1 score: \t0.884444444444\n"
       ]
      }
     ],
     "prompt_number": 22
    },
    {
     "cell_type": "code",
     "collapsed": false,
     "input": [],
     "language": "python",
     "metadata": {},
     "outputs": []
    }
   ],
   "metadata": {}
  }
 ]
}