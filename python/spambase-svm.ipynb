{
 "metadata": {
  "name": "spambase-svm"
 },
 "nbformat": 3,
 "nbformat_minor": 0,
 "worksheets": [
  {
   "cells": [
    {
     "cell_type": "code",
     "collapsed": false,
     "input": [
      "data_path = '../data/spambase.data'  # http://archive.ics.uci.edu/ml/datasets/Spambase\n",
      "algorithm = 'svc_rbf'"
     ],
     "language": "python",
     "metadata": {},
     "outputs": [],
     "prompt_number": 40
    },
    {
     "cell_type": "code",
     "collapsed": false,
     "input": [
      "from numpy import genfromtxt\n",
      "\n",
      "print \"Reading the dataset:\", data_path\n",
      "data = genfromtxt(data_path, delimiter=',') # no need to skip the header\n",
      "n_samples = len(data)"
     ],
     "language": "python",
     "metadata": {},
     "outputs": [
      {
       "output_type": "stream",
       "stream": "stdout",
       "text": [
        "Reading the dataset: ../data/spambase.data\n"
       ]
      }
     ],
     "prompt_number": 41
    },
    {
     "cell_type": "code",
     "collapsed": false,
     "input": [
      "print data[0]"
     ],
     "language": "python",
     "metadata": {},
     "outputs": [
      {
       "output_type": "stream",
       "stream": "stdout",
       "text": [
        "[   0.       0.64     0.64     0.       0.32     0.       0.       0.       0.\n",
        "    0.       0.       0.64     0.       0.       0.       0.32     0.\n",
        "    1.29     1.93     0.       0.96     0.       0.       0.       0.       0.\n",
        "    0.       0.       0.       0.       0.       0.       0.       0.       0.\n",
        "    0.       0.       0.       0.       0.       0.       0.       0.       0.\n",
        "    0.       0.       0.       0.       0.       0.       0.       0.778\n",
        "    0.       0.       3.756   61.     278.       1.   ]\n"
       ]
      }
     ],
     "prompt_number": 42
    },
    {
     "cell_type": "code",
     "collapsed": false,
     "input": [
      "len(data)"
     ],
     "language": "python",
     "metadata": {},
     "outputs": [
      {
       "output_type": "pyout",
       "prompt_number": 43,
       "text": [
        "4601"
       ]
      }
     ],
     "prompt_number": 43
    },
    {
     "cell_type": "code",
     "collapsed": false,
     "input": [
      "from sklearn import preprocessing\n",
      "\n",
      "features = preprocessing.scale(data[:, 0:-1])\n",
      "target = data[:, -1]"
     ],
     "language": "python",
     "metadata": {},
     "outputs": [],
     "prompt_number": 44
    },
    {
     "cell_type": "code",
     "collapsed": false,
     "input": [
      "from sklearn.cross_validation import train_test_split\n",
      "\n",
      "X_train, X_test, y_train, y_test = train_test_split(\n",
      "    features, target, test_size=0.33, random_state=17)"
     ],
     "language": "python",
     "metadata": {},
     "outputs": [],
     "prompt_number": 45
    },
    {
     "cell_type": "code",
     "collapsed": false,
     "input": [
      "from sklearn.svm import SVC\n",
      "\n",
      "def svc_rbf(X_train, y_train):\n",
      "    print \"Training: SVC with a Radial Basis Function (RBF) kernel...\"\n",
      "    svc = SVC(kernel='rbf')\n",
      "    svc.fit(X_train, y_train)\n",
      "    return svc\n",
      "\n",
      "training_algorithm = globals()[algorithm]\n",
      "clf = training_algorithm(X_train, y_train)"
     ],
     "language": "python",
     "metadata": {},
     "outputs": [
      {
       "output_type": "stream",
       "stream": "stdout",
       "text": [
        "Training: SVC with a Radial Basis Function (RBF) kernel...\n"
       ]
      }
     ],
     "prompt_number": 46
    },
    {
     "cell_type": "code",
     "collapsed": false,
     "input": [
      "clf"
     ],
     "language": "python",
     "metadata": {},
     "outputs": [
      {
       "output_type": "pyout",
       "prompt_number": 47,
       "text": [
        "SVC(C=1.0, cache_size=200, class_weight=None, coef0=0.0, degree=3,\n",
        "  gamma=0.0175438596491, kernel='rbf', probability=False, shrinking=True,\n",
        "  tol=0.001, verbose=False)"
       ]
      }
     ],
     "prompt_number": 47
    },
    {
     "cell_type": "code",
     "collapsed": false,
     "input": [
      "# Make a prediction\n",
      "y_pred = clf.predict(X_test)"
     ],
     "language": "python",
     "metadata": {},
     "outputs": [],
     "prompt_number": 48
    },
    {
     "cell_type": "code",
     "collapsed": false,
     "input": [
      "from sklearn import metrics\n",
      "\n",
      "print \"Precision: \\t\", metrics.precision_score(y_test, y_pred)\n",
      "print \"Recall: \\t\", metrics.recall_score(y_test, y_pred)\n",
      "print \"F1 score: \\t\", metrics.f1_score(y_test, y_pred)"
     ],
     "language": "python",
     "metadata": {},
     "outputs": [
      {
       "output_type": "stream",
       "stream": "stdout",
       "text": [
        "Precision: \t0.921465968586\n",
        "Recall: \t0.884422110553\n",
        "F1 score: \t0.902564102564\n"
       ]
      }
     ],
     "prompt_number": 49
    },
    {
     "cell_type": "code",
     "collapsed": false,
     "input": [],
     "language": "python",
     "metadata": {},
     "outputs": []
    }
   ],
   "metadata": {}
  }
 ]
}