{
 "metadata": {
  "name": "spambase-svm"
 },
 "nbformat": 3,
 "nbformat_minor": 0,
 "worksheets": [
  {
   "cells": [
    {
     "cell_type": "code",
     "collapsed": false,
     "input": [
      "data_path = '../data/spambase.data'  # http://archive.ics.uci.edu/ml/datasets/Spambase\n",
      "algorithm = 'svc_rbf'"
     ],
     "language": "python",
     "metadata": {},
     "outputs": [],
     "prompt_number": 3
    },
    {
     "cell_type": "code",
     "collapsed": false,
     "input": [
      "from numpy import genfromtxt\n",
      "\n",
      "print \"Reading the dataset:\", data_path\n",
      "data = genfromtxt(data_path, delimiter=',') # no need to skip the header\n",
      "n_samples = len(data)"
     ],
     "language": "python",
     "metadata": {},
     "outputs": [
      {
       "output_type": "stream",
       "stream": "stdout",
       "text": [
        "Reading the dataset: ../data/spambase.data\n"
       ]
      }
     ],
     "prompt_number": 4
    },
    {
     "cell_type": "code",
     "collapsed": false,
     "input": [
      "print data[0]"
     ],
     "language": "python",
     "metadata": {},
     "outputs": [
      {
       "output_type": "stream",
       "stream": "stdout",
       "text": [
        "[   0.       0.64     0.64     0.       0.32     0.       0.       0.       0.\n",
        "    0.       0.       0.64     0.       0.       0.       0.32     0.\n",
        "    1.29     1.93     0.       0.96     0.       0.       0.       0.       0.\n",
        "    0.       0.       0.       0.       0.       0.       0.       0.       0.\n",
        "    0.       0.       0.       0.       0.       0.       0.       0.       0.\n",
        "    0.       0.       0.       0.       0.       0.       0.       0.778\n",
        "    0.       0.       3.756   61.     278.       1.   ]\n"
       ]
      }
     ],
     "prompt_number": 7
    },
    {
     "cell_type": "code",
     "collapsed": false,
     "input": [
      "len(data)"
     ],
     "language": "python",
     "metadata": {},
     "outputs": [
      {
       "output_type": "pyout",
       "prompt_number": 8,
       "text": [
        "4601"
       ]
      }
     ],
     "prompt_number": 8
    },
    {
     "cell_type": "code",
     "collapsed": false,
     "input": [
      "from sklearn import preprocessing\n",
      "\n",
      "# Scale features\n",
      "data[:, 0:-1] = preprocessing.scale(data[:, 0:-1])"
     ],
     "language": "python",
     "metadata": {},
     "outputs": [],
     "prompt_number": 10
    },
    {
     "cell_type": "code",
     "collapsed": false,
     "input": [
      "print data[0]"
     ],
     "language": "python",
     "metadata": {},
     "outputs": [
      {
       "output_type": "stream",
       "stream": "stdout",
       "text": [
        "[-0.34243371  0.3308849   0.71285877 -0.04689958  0.01156471 -0.35026618\n",
        " -0.29179389 -0.26256156 -0.32330236 -0.37136439 -0.29685953  0.11408733\n",
        " -0.31205521 -0.17492717 -0.19011441  0.08617144 -0.32113541  2.08120664\n",
        "  0.15090537 -0.16789311  0.1251284  -0.11817151 -0.2902092  -0.21299439\n",
        " -0.32881467 -0.29923993 -0.22789481 -0.23183016 -0.16673145 -0.22523952\n",
        " -0.16053931 -0.14321202 -0.17492026 -0.14521515 -0.19806739 -0.24213022\n",
        " -0.32345561 -0.05983624 -0.18091134 -0.18530385 -0.12090468 -0.17259996\n",
        " -0.20599311 -0.12734332 -0.29777621 -0.19738748 -0.0713879  -0.11154623\n",
        " -0.15845336 -0.51430655 -0.15519768  0.62400658 -0.30835494 -0.1030484\n",
        " -0.04524728  0.04529792 -0.00872413  1.        ]\n"
       ]
      }
     ],
     "prompt_number": 11
    },
    {
     "cell_type": "code",
     "collapsed": false,
     "input": [
      "# Split it into train and test sets\n",
      "boundary = int(n_samples * 0.6)\n",
      "train, test = data[:boundary], data[boundary:]\n",
      "X_train, X_test = train[:, :-1], test[:, :-1]\n",
      "y_train, y_test = train[:, -1], test[:, -1]"
     ],
     "language": "python",
     "metadata": {},
     "outputs": [],
     "prompt_number": 12
    },
    {
     "cell_type": "code",
     "collapsed": false,
     "input": [
      "boundary"
     ],
     "language": "python",
     "metadata": {},
     "outputs": [
      {
       "output_type": "pyout",
       "prompt_number": 13,
       "text": [
        "2760"
       ]
      }
     ],
     "prompt_number": 13
    },
    {
     "cell_type": "code",
     "collapsed": false,
     "input": [
      "print X_train[0]"
     ],
     "language": "python",
     "metadata": {},
     "outputs": [
      {
       "output_type": "stream",
       "stream": "stdout",
       "text": [
        "[-0.34243371  0.3308849   0.71285877 -0.04689958  0.01156471 -0.35026618\n",
        " -0.29179389 -0.26256156 -0.32330236 -0.37136439 -0.29685953  0.11408733\n",
        " -0.31205521 -0.17492717 -0.19011441  0.08617144 -0.32113541  2.08120664\n",
        "  0.15090537 -0.16789311  0.1251284  -0.11817151 -0.2902092  -0.21299439\n",
        " -0.32881467 -0.29923993 -0.22789481 -0.23183016 -0.16673145 -0.22523952\n",
        " -0.16053931 -0.14321202 -0.17492026 -0.14521515 -0.19806739 -0.24213022\n",
        " -0.32345561 -0.05983624 -0.18091134 -0.18530385 -0.12090468 -0.17259996\n",
        " -0.20599311 -0.12734332 -0.29777621 -0.19738748 -0.0713879  -0.11154623\n",
        " -0.15845336 -0.51430655 -0.15519768  0.62400658 -0.30835494 -0.1030484\n",
        " -0.04524728  0.04529792 -0.00872413]\n"
       ]
      }
     ],
     "prompt_number": 14
    },
    {
     "cell_type": "code",
     "collapsed": false,
     "input": [
      "from sklearn.svm import SVC\n",
      "\n",
      "def svc_rbf(X_train, y_train):\n",
      "    print \"Training: SVC with a Radial Basis Function (RBF) kernel...\"\n",
      "    svc = SVC(kernel='rbf')\n",
      "    svc.fit(X_train, y_train)\n",
      "    return svc\n",
      "\n",
      "training_algorithm = globals()[algorithm]\n",
      "clf = training_algorithm(X_train, y_train)"
     ],
     "language": "python",
     "metadata": {},
     "outputs": [
      {
       "output_type": "stream",
       "stream": "stdout",
       "text": [
        "Training: SVC with a Radial Basis Function (RBF) kernel...\n"
       ]
      }
     ],
     "prompt_number": 16
    },
    {
     "cell_type": "code",
     "collapsed": false,
     "input": [
      "clf"
     ],
     "language": "python",
     "metadata": {},
     "outputs": [
      {
       "output_type": "pyout",
       "prompt_number": 17,
       "text": [
        "SVC(C=1.0, cache_size=200, class_weight=None, coef0=0.0, degree=3,\n",
        "  gamma=0.0175438596491, kernel='rbf', probability=False, shrinking=True,\n",
        "  tol=0.001, verbose=False)"
       ]
      }
     ],
     "prompt_number": 17
    },
    {
     "cell_type": "code",
     "collapsed": false,
     "input": [
      "# Make a prediction\n",
      "y_pred = clf.predict(X_test)"
     ],
     "language": "python",
     "metadata": {},
     "outputs": [],
     "prompt_number": 18
    },
    {
     "cell_type": "code",
     "collapsed": false,
     "input": [
      "print y_pred[:10]"
     ],
     "language": "python",
     "metadata": {},
     "outputs": [
      {
       "output_type": "stream",
       "stream": "stdout",
       "text": [
        "[ 0.  0.  0.  0.  0.  0.  0.  0.  1.  0.]\n"
       ]
      }
     ],
     "prompt_number": 22
    },
    {
     "cell_type": "code",
     "collapsed": false,
     "input": [
      "print y_test[:10]"
     ],
     "language": "python",
     "metadata": {},
     "outputs": [
      {
       "output_type": "stream",
       "stream": "stdout",
       "text": [
        "[ 0.  0.  0.  0.  0.  0.  0.  0.  0.  0.]\n"
       ]
      }
     ],
     "prompt_number": 23
    },
    {
     "cell_type": "code",
     "collapsed": false,
     "input": [
      "from sklearn import metrics\n",
      "\n",
      "print \"Precision: \\t\", metrics.precision_score(y_test, y_pred)\n",
      "print \"Recall: \\t\", metrics.recall_score(y_test, y_pred)\n",
      "print \"F1 score: \\t\", metrics.f1_score(y_test, y_pred)"
     ],
     "language": "python",
     "metadata": {},
     "outputs": [
      {
       "output_type": "stream",
       "stream": "stdout",
       "text": [
        "Precision: \t0.0\n",
        "Recall: \t0.0\n",
        "F1 score: \t0.0\n"
       ]
      }
     ],
     "prompt_number": 26
    },
    {
     "cell_type": "code",
     "collapsed": false,
     "input": [],
     "language": "python",
     "metadata": {},
     "outputs": []
    }
   ],
   "metadata": {}
  }
 ]
}